{
 "cells": [
  {
   "cell_type": "code",
   "execution_count": 20,
   "metadata": {},
   "outputs": [],
   "source": [
    "from pyspark.sql.functions import hour,minute,second,col,avg,when\n",
    "\n",
    "import pyspark.sql.functions as sql_functions\n",
    "from pyspark.sql import SQLContext\n",
    "import datetime\n",
    "sqlContext = SQLContext(sc)"
   ]
  },
  {
   "cell_type": "code",
   "execution_count": 21,
   "metadata": {},
   "outputs": [],
   "source": [
    "df = sqlContext.read.csv(\"hdfs://localhost:54310/user/hduser/user_log_data.csv\",header = True, inferSchema = True)"
   ]
  },
  {
   "cell_type": "code",
   "execution_count": 22,
   "metadata": {},
   "outputs": [
    {
     "name": "stdout",
     "output_type": "stream",
     "text": [
      "+--------------------+-------------------+-------------------+-------------------+-------------------+\n",
      "|           user_name|          idle_time|      working_hours|         start_time|           end_time|\n",
      "+--------------------+-------------------+-------------------+-------------------+-------------------+\n",
      "|  sahil24c@gmail.com|2019-10-24 05:05:00|2019-10-24 05:50:00|2019-10-24 08:30:02|2019-10-24 19:25:02|\n",
      "|magadum.iranna@gm...|2019-10-24 02:15:00|2019-10-24 08:39:59|2019-10-24 08:30:02|2019-10-24 19:25:01|\n",
      "+--------------------+-------------------+-------------------+-------------------+-------------------+\n",
      "only showing top 2 rows\n",
      "\n"
     ]
    }
   ],
   "source": [
    "df.show(2)"
   ]
  },
  {
   "cell_type": "code",
   "execution_count": 23,
   "metadata": {},
   "outputs": [
    {
     "name": "stdout",
     "output_type": "stream",
     "text": [
      "+--------------------+-----+\n",
      "|           user_name|hours|\n",
      "+--------------------+-----+\n",
      "|  sahil24c@gmail.com|    8|\n",
      "|magadum.iranna@gm...|    8|\n",
      "+--------------------+-----+\n",
      "only showing top 2 rows\n",
      "\n"
     ]
    }
   ],
   "source": [
    "df1 = df.withColumn('hours', hour(df['start_time']))\n",
    "x = df1.select('user_name','hours')\n",
    "x.show(2)"
   ]
  },
  {
   "cell_type": "code",
   "execution_count": 24,
   "metadata": {},
   "outputs": [
    {
     "name": "stdout",
     "output_type": "stream",
     "text": [
      "+--------------------+-----+-----+\n",
      "|           user_name|hours|  h_s|\n",
      "+--------------------+-----+-----+\n",
      "|  sahil24c@gmail.com|    8|28800|\n",
      "|magadum.iranna@gm...|    8|28800|\n",
      "+--------------------+-----+-----+\n",
      "only showing top 2 rows\n",
      "\n"
     ]
    }
   ],
   "source": [
    "x = x.withColumn('h_s', x['hours'] * 3600)\n",
    "x.show(2)"
   ]
  },
  {
   "cell_type": "code",
   "execution_count": 25,
   "metadata": {},
   "outputs": [
    {
     "name": "stdout",
     "output_type": "stream",
     "text": [
      "+--------------------+---+----+\n",
      "|           user_name|min| m_s|\n",
      "+--------------------+---+----+\n",
      "|  sahil24c@gmail.com| 30|1800|\n",
      "|magadum.iranna@gm...| 30|1800|\n",
      "+--------------------+---+----+\n",
      "only showing top 2 rows\n",
      "\n"
     ]
    }
   ],
   "source": [
    "df2 = df.withColumn('min', minute(df['start_time']))\n",
    "y = df2.select('user_name', 'min')\n",
    "y = y.withColumn('m_s', y['min'] * 60)\n",
    "y.show(2)"
   ]
  },
  {
   "cell_type": "code",
   "execution_count": 26,
   "metadata": {},
   "outputs": [
    {
     "name": "stdout",
     "output_type": "stream",
     "text": [
      "+--------------------+---+\n",
      "|           user_name|sec|\n",
      "+--------------------+---+\n",
      "|  sahil24c@gmail.com|  2|\n",
      "|magadum.iranna@gm...|  2|\n",
      "+--------------------+---+\n",
      "only showing top 2 rows\n",
      "\n"
     ]
    }
   ],
   "source": [
    "df3 = df.withColumn('sec', second(df['start_time']))\n",
    "z = df3.select('user_name', 'sec')\n",
    "z.show(2)"
   ]
  },
  {
   "cell_type": "code",
   "execution_count": 27,
   "metadata": {},
   "outputs": [
    {
     "name": "stdout",
     "output_type": "stream",
     "text": [
      "+--------------------+-----+-----+---+----+\n",
      "|           user_name|hours|  h_s|min| m_s|\n",
      "+--------------------+-----+-----+---+----+\n",
      "|  sahil24c@gmail.com|    8|28800| 30|1800|\n",
      "|magadum.iranna@gm...|    8|28800| 30|1800|\n",
      "+--------------------+-----+-----+---+----+\n",
      "only showing top 2 rows\n",
      "\n"
     ]
    }
   ],
   "source": [
    "#Joining the dataframes\n",
    "df4 = x.join(y, on = ['user_name'], how = 'inner')\n",
    "df4.show(2)"
   ]
  },
  {
   "cell_type": "code",
   "execution_count": 28,
   "metadata": {},
   "outputs": [
    {
     "name": "stdout",
     "output_type": "stream",
     "text": [
      "+--------------------+-----+-----+---+----+---+\n",
      "|           user_name|hours|  h_s|min| m_s|sec|\n",
      "+--------------------+-----+-----+---+----+---+\n",
      "|  sahil24c@gmail.com|    8|28800| 30|1800|  2|\n",
      "|magadum.iranna@gm...|    8|28800| 30|1800|  2|\n",
      "+--------------------+-----+-----+---+----+---+\n",
      "only showing top 2 rows\n",
      "\n"
     ]
    }
   ],
   "source": [
    "df5 = df4.join(z, on = ['user_name'], how = 'inner') \n",
    "df5.show(2)"
   ]
  },
  {
   "cell_type": "code",
   "execution_count": 29,
   "metadata": {},
   "outputs": [
    {
     "name": "stdout",
     "output_type": "stream",
     "text": [
      "+--------------------+-----+-----+---+----+---+-----------------+\n",
      "|           user_name|hours|  h_s|min| m_s|sec|      start_hours|\n",
      "+--------------------+-----+-----+---+----+---+-----------------+\n",
      "|  sahil24c@gmail.com|    8|28800| 30|1800|  2|8.500555555555556|\n",
      "|magadum.iranna@gm...|    8|28800| 30|1800|  2|8.500555555555556|\n",
      "+--------------------+-----+-----+---+----+---+-----------------+\n",
      "only showing top 2 rows\n",
      "\n"
     ]
    }
   ],
   "source": [
    "df6 = df5.withColumn('start_hours', (df5['h_s'] + df5['m_s'] + df5['sec'])/3600)\n",
    "df6.show(2)"
   ]
  },
  {
   "cell_type": "code",
   "execution_count": 30,
   "metadata": {},
   "outputs": [
    {
     "name": "stdout",
     "output_type": "stream",
     "text": [
      "+--------------------+-----+\n",
      "|           user_name|hours|\n",
      "+--------------------+-----+\n",
      "|  sahil24c@gmail.com|   19|\n",
      "|magadum.iranna@gm...|   19|\n",
      "+--------------------+-----+\n",
      "only showing top 2 rows\n",
      "\n"
     ]
    }
   ],
   "source": [
    "df11 = df.withColumn('hours', hour(df['end_time']))\n",
    "x1 = df11.select('user_name','hours')\n",
    "x1.show(2)"
   ]
  },
  {
   "cell_type": "code",
   "execution_count": 31,
   "metadata": {},
   "outputs": [
    {
     "name": "stdout",
     "output_type": "stream",
     "text": [
      "+--------------------+-----+-----+\n",
      "|           user_name|hours|  h_s|\n",
      "+--------------------+-----+-----+\n",
      "|  sahil24c@gmail.com|   19|68400|\n",
      "|magadum.iranna@gm...|   19|68400|\n",
      "+--------------------+-----+-----+\n",
      "only showing top 2 rows\n",
      "\n"
     ]
    }
   ],
   "source": [
    "\n",
    "x1 = x1.withColumn('h_s', x1['hours'] * 3600)\n",
    "x1.show(2)"
   ]
  },
  {
   "cell_type": "code",
   "execution_count": 32,
   "metadata": {},
   "outputs": [
    {
     "name": "stdout",
     "output_type": "stream",
     "text": [
      "+--------------------+---+----+\n",
      "|           user_name|min| m_s|\n",
      "+--------------------+---+----+\n",
      "|  sahil24c@gmail.com| 25|1500|\n",
      "|magadum.iranna@gm...| 25|1500|\n",
      "+--------------------+---+----+\n",
      "only showing top 2 rows\n",
      "\n"
     ]
    }
   ],
   "source": [
    "\n",
    "df22 = df.withColumn('min', minute(df['end_time']))\n",
    "y1 = df22.select('user_name', 'min')\n",
    "y1 = y1.withColumn('m_s', y1['min'] * 60)\n",
    "y1.show(2)"
   ]
  },
  {
   "cell_type": "code",
   "execution_count": 33,
   "metadata": {},
   "outputs": [
    {
     "name": "stdout",
     "output_type": "stream",
     "text": [
      "+--------------------+---+\n",
      "|           user_name|sec|\n",
      "+--------------------+---+\n",
      "|  sahil24c@gmail.com|  2|\n",
      "|magadum.iranna@gm...|  1|\n",
      "+--------------------+---+\n",
      "only showing top 2 rows\n",
      "\n"
     ]
    }
   ],
   "source": [
    "\n",
    "df33 = df.withColumn('sec', second(df['end_time']))\n",
    "z1 = df33.select('user_name', 'sec')\n",
    "z1.show(2)"
   ]
  },
  {
   "cell_type": "code",
   "execution_count": 34,
   "metadata": {},
   "outputs": [
    {
     "name": "stdout",
     "output_type": "stream",
     "text": [
      "+--------------------+-----+-----+---+----+\n",
      "|           user_name|hours|  h_s|min| m_s|\n",
      "+--------------------+-----+-----+---+----+\n",
      "|  sahil24c@gmail.com|   19|68400| 25|1500|\n",
      "|magadum.iranna@gm...|   19|68400| 25|1500|\n",
      "+--------------------+-----+-----+---+----+\n",
      "only showing top 2 rows\n",
      "\n"
     ]
    }
   ],
   "source": [
    "#Joining the dataframes\n",
    "df44 = x1.join(y1, on = ['user_name'], how = 'inner')\n",
    "df44.show(2)"
   ]
  },
  {
   "cell_type": "code",
   "execution_count": 35,
   "metadata": {},
   "outputs": [
    {
     "name": "stdout",
     "output_type": "stream",
     "text": [
      "+--------------------+-----+-----+---+----+---+\n",
      "|           user_name|hours|  h_s|min| m_s|sec|\n",
      "+--------------------+-----+-----+---+----+---+\n",
      "|  sahil24c@gmail.com|   19|68400| 25|1500|  2|\n",
      "|magadum.iranna@gm...|   19|68400| 25|1500|  1|\n",
      "+--------------------+-----+-----+---+----+---+\n",
      "only showing top 2 rows\n",
      "\n"
     ]
    }
   ],
   "source": [
    "df55 = df44.join(z1, on = ['user_name'], how = 'inner')\n",
    "df55.show(2)"
   ]
  },
  {
   "cell_type": "code",
   "execution_count": 36,
   "metadata": {},
   "outputs": [
    {
     "name": "stdout",
     "output_type": "stream",
     "text": [
      "+--------------------+-----+----+---+\n",
      "|           user_name|  h_s| m_s|sec|\n",
      "+--------------------+-----+----+---+\n",
      "|  sahil24c@gmail.com|68400|1500|  2|\n",
      "|magadum.iranna@gm...|68400|1500|  1|\n",
      "+--------------------+-----+----+---+\n",
      "only showing top 2 rows\n",
      "\n"
     ]
    }
   ],
   "source": [
    "df66 = df55.drop('hours', 'min')\n",
    "df66.show(2)"
   ]
  },
  {
   "cell_type": "code",
   "execution_count": 37,
   "metadata": {},
   "outputs": [
    {
     "name": "stdout",
     "output_type": "stream",
     "text": [
      "+--------------------+-----+----+---+------------------+\n",
      "|           user_name|  h_s| m_s|sec|         end_hours|\n",
      "+--------------------+-----+----+---+------------------+\n",
      "|  sahil24c@gmail.com|68400|1500|  2| 19.41722222222222|\n",
      "|magadum.iranna@gm...|68400|1500|  1|19.416944444444443|\n",
      "+--------------------+-----+----+---+------------------+\n",
      "only showing top 2 rows\n",
      "\n"
     ]
    }
   ],
   "source": [
    "df77 = df66.withColumn('end_hours', (df66['h_s'] + df66['m_s'] + df66['sec'])/3600)\n",
    "df77.show(2)"
   ]
  },
  {
   "cell_type": "code",
   "execution_count": 38,
   "metadata": {},
   "outputs": [
    {
     "name": "stdout",
     "output_type": "stream",
     "text": [
      "+--------------------+-----------------+\n",
      "|           user_name|      start_hours|\n",
      "+--------------------+-----------------+\n",
      "|  sahil24c@gmail.com|8.500555555555556|\n",
      "|magadum.iranna@gm...|8.500555555555556|\n",
      "+--------------------+-----------------+\n",
      "only showing top 2 rows\n",
      "\n"
     ]
    }
   ],
   "source": [
    "df8 = df6.select(\"user_name\",\"start_hours\")\n",
    "df8.show(2)"
   ]
  },
  {
   "cell_type": "code",
   "execution_count": 39,
   "metadata": {},
   "outputs": [
    {
     "name": "stdout",
     "output_type": "stream",
     "text": [
      "+--------------------+------------------+-----+----+---+-----------------+\n",
      "|           user_name|       start_hours|  h_s| m_s|sec|        end_hours|\n",
      "+--------------------+------------------+-----+----+---+-----------------+\n",
      "|ashutoshrit64@gma...| 9.000277777777777|68400|1500|  2|19.41722222222222|\n",
      "|giridhardandikwar...|10.667222222222222|68400|1500|  2|19.41722222222222|\n",
      "+--------------------+------------------+-----+----+---+-----------------+\n",
      "only showing top 2 rows\n",
      "\n"
     ]
    }
   ],
   "source": [
    "\n",
    "df9 = df8.join(df77, on = ['user_name'], how = 'inner')\n",
    "df9.show(2)"
   ]
  },
  {
   "cell_type": "code",
   "execution_count": 40,
   "metadata": {},
   "outputs": [
    {
     "name": "stdout",
     "output_type": "stream",
     "text": [
      "+--------------------+------------------+-----------------+\n",
      "|           user_name|       start_hours|        end_hours|\n",
      "+--------------------+------------------+-----------------+\n",
      "|ashutoshrit64@gma...| 9.000277777777777|19.41722222222222|\n",
      "|giridhardandikwar...|10.667222222222222|19.41722222222222|\n",
      "+--------------------+------------------+-----------------+\n",
      "only showing top 2 rows\n",
      "\n"
     ]
    }
   ],
   "source": [
    "df10 = df9.select(\"user_name\",\"start_hours\",\"end_hours\")\n",
    "df10.show(2)"
   ]
  },
  {
   "cell_type": "code",
   "execution_count": 41,
   "metadata": {},
   "outputs": [
    {
     "name": "stdout",
     "output_type": "stream",
     "text": [
      "+--------------------+------------------+-----------------+------------------+\n",
      "|           user_name|       start_hours|        end_hours|        Time_spent|\n",
      "+--------------------+------------------+-----------------+------------------+\n",
      "|ashutoshrit64@gma...| 9.000277777777777|19.41722222222222|10.416944444444445|\n",
      "|giridhardandikwar...|10.667222222222222|19.41722222222222|              8.75|\n",
      "+--------------------+------------------+-----------------+------------------+\n",
      "only showing top 2 rows\n",
      "\n"
     ]
    }
   ],
   "source": [
    "df11 = df10.withColumn('Time_spent', (df10['end_hours'] - df10[\"start_hours\"]))\n",
    "df11.show(2)"
   ]
  },
  {
   "cell_type": "code",
   "execution_count": 42,
   "metadata": {},
   "outputs": [
    {
     "name": "stdout",
     "output_type": "stream",
     "text": [
      "+--------------------+------------------+\n",
      "|           user_name|        Time_spent|\n",
      "+--------------------+------------------+\n",
      "|ashutoshrit64@gma...|10.416944444444445|\n",
      "|giridhardandikwar...|              8.75|\n",
      "+--------------------+------------------+\n",
      "only showing top 2 rows\n",
      "\n"
     ]
    }
   ],
   "source": [
    "\n",
    "df12 = df11.select('user_name','Time_spent').show(2)"
   ]
  }
 ],
 "metadata": {
  "kernelspec": {
   "display_name": "Python 3",
   "language": "python",
   "name": "python3"
  },
  "language_info": {
   "codemirror_mode": {
    "name": "ipython",
    "version": 3
   },
   "file_extension": ".py",
   "mimetype": "text/x-python",
   "name": "python",
   "nbconvert_exporter": "python",
   "pygments_lexer": "ipython3",
   "version": "3.6.9"
  }
 },
 "nbformat": 4,
 "nbformat_minor": 4
}
