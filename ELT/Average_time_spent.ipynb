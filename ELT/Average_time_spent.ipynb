{
 "cells": [
  {
   "cell_type": "code",
   "execution_count": 1,
   "metadata": {},
   "outputs": [],
   "source": [
    "from pyspark.sql.functions import hour,minute,second,col,avg,when\n",
    "from pyspark.sql import SQLContext\n",
    "import pyspark.sql.functions as sql_functions\n",
    "import datetime\n",
    "sqlContext = SQLContext(sc)"
   ]
  },
  {
   "cell_type": "code",
   "execution_count": 2,
   "metadata": {},
   "outputs": [],
   "source": [
    "df = sqlContext.read.csv(\"hdfs://localhost:54310/user/hduser/user_log_data.csv\",header = True, inferSchema = True)"
   ]
  },
  {
   "cell_type": "code",
   "execution_count": 3,
   "metadata": {},
   "outputs": [
    {
     "name": "stdout",
     "output_type": "stream",
     "text": [
      "+--------------------+-------------------+-------------------+-------------------+-------------------+\n",
      "|           user_name|          idle_time|      working_hours|         start_time|           end_time|\n",
      "+--------------------+-------------------+-------------------+-------------------+-------------------+\n",
      "|  sahil24c@gmail.com|2019-10-24 05:05:00|2019-10-24 05:50:00|2019-10-24 08:30:02|2019-10-24 19:25:02|\n",
      "|magadum.iranna@gm...|2019-10-24 02:15:00|2019-10-24 08:39:59|2019-10-24 08:30:02|2019-10-24 19:25:01|\n",
      "+--------------------+-------------------+-------------------+-------------------+-------------------+\n",
      "only showing top 2 rows\n",
      "\n"
     ]
    }
   ],
   "source": [
    "\n",
    "df.show(2)"
   ]
  },
  {
   "cell_type": "code",
   "execution_count": 4,
   "metadata": {},
   "outputs": [
    {
     "name": "stdout",
     "output_type": "stream",
     "text": [
      "+-------------------+-------------------+\n",
      "|          user_name|         start_time|\n",
      "+-------------------+-------------------+\n",
      "| rr582619@gmail.con|2019-10-24 09:35:01|\n",
      "|addyp1911@gmail.com|2019-10-24 09:35:02|\n",
      "+-------------------+-------------------+\n",
      "only showing top 2 rows\n",
      "\n"
     ]
    }
   ],
   "source": [
    "late_hours = df.filter(sql_functions.col('start_time') > '2019-10-24 09:30:02').select('user_name','start_time')\n",
    "late_hours.show(2)"
   ]
  },
  {
   "cell_type": "code",
   "execution_count": 5,
   "metadata": {},
   "outputs": [
    {
     "data": {
      "text/plain": [
       "50"
      ]
     },
     "execution_count": 5,
     "metadata": {},
     "output_type": "execute_result"
    }
   ],
   "source": [
    "late_hours.count()"
   ]
  },
  {
   "cell_type": "code",
   "execution_count": 6,
   "metadata": {},
   "outputs": [
    {
     "name": "stdout",
     "output_type": "stream",
     "text": [
      "+-------------------+-------------------+-----+\n",
      "|          user_name|         start_time|hours|\n",
      "+-------------------+-------------------+-----+\n",
      "| rr582619@gmail.con|2019-10-24 09:35:01|    9|\n",
      "|addyp1911@gmail.com|2019-10-24 09:35:02|    9|\n",
      "+-------------------+-------------------+-----+\n",
      "only showing top 2 rows\n",
      "\n"
     ]
    }
   ],
   "source": [
    "df1 = late_hours.withColumn('hours', hour(late_hours['start_time']))\n",
    "df1.show(2)"
   ]
  },
  {
   "cell_type": "code",
   "execution_count": 7,
   "metadata": {},
   "outputs": [
    {
     "name": "stdout",
     "output_type": "stream",
     "text": [
      "+-------------------+-----+-----+\n",
      "|          user_name|hours|h_sec|\n",
      "+-------------------+-----+-----+\n",
      "| rr582619@gmail.con|    9|32400|\n",
      "|addyp1911@gmail.com|    9|32400|\n",
      "+-------------------+-----+-----+\n",
      "only showing top 2 rows\n",
      "\n"
     ]
    }
   ],
   "source": [
    "x = df1.select('user_name','hours')\n",
    "x = x.withColumn('h_sec', x['hours'] * 3600)\n",
    "x.show(2)"
   ]
  },
  {
   "cell_type": "code",
   "execution_count": 8,
   "metadata": {},
   "outputs": [
    {
     "name": "stdout",
     "output_type": "stream",
     "text": [
      "+-------------------+---+-----+\n",
      "|          user_name|min|m_sec|\n",
      "+-------------------+---+-----+\n",
      "| rr582619@gmail.con| 35| 2100|\n",
      "|addyp1911@gmail.com| 35| 2100|\n",
      "+-------------------+---+-----+\n",
      "only showing top 2 rows\n",
      "\n"
     ]
    }
   ],
   "source": [
    "df2 = late_hours.withColumn('min', minute(late_hours['start_time']))\n",
    "y = df2.select('user_name','min')\n",
    "y = y.withColumn('m_sec', y['min'] * 60)\n",
    "y.show(2)"
   ]
  },
  {
   "cell_type": "code",
   "execution_count": 9,
   "metadata": {},
   "outputs": [
    {
     "name": "stdout",
     "output_type": "stream",
     "text": [
      "+-------------------+---+\n",
      "|          user_name|sec|\n",
      "+-------------------+---+\n",
      "| rr582619@gmail.con|  1|\n",
      "|addyp1911@gmail.com|  2|\n",
      "+-------------------+---+\n",
      "only showing top 2 rows\n",
      "\n"
     ]
    }
   ],
   "source": [
    "df3 = late_hours.withColumn('sec', second(late_hours['start_time']))\n",
    "z = df3.select('user_name', 'sec')\n",
    "z.show(2)"
   ]
  },
  {
   "cell_type": "code",
   "execution_count": 10,
   "metadata": {},
   "outputs": [
    {
     "name": "stdout",
     "output_type": "stream",
     "text": [
      "+-------------------+-----+-----+---+-----+\n",
      "|          user_name|hours|h_sec|min|m_sec|\n",
      "+-------------------+-----+-----+---+-----+\n",
      "| rr582619@gmail.con|    9|32400| 35| 2100|\n",
      "|addyp1911@gmail.com|    9|32400| 35| 2100|\n",
      "+-------------------+-----+-----+---+-----+\n",
      "only showing top 2 rows\n",
      "\n"
     ]
    }
   ],
   "source": [
    "#Joining the dataframes\n",
    "df4 = x.join(y, on = ['user_name'], how = 'inner')\n",
    "df4.show(2)"
   ]
  },
  {
   "cell_type": "code",
   "execution_count": 11,
   "metadata": {},
   "outputs": [
    {
     "name": "stdout",
     "output_type": "stream",
     "text": [
      "+-------------------+-----+-----+---+-----+---+\n",
      "|          user_name|hours|h_sec|min|m_sec|sec|\n",
      "+-------------------+-----+-----+---+-----+---+\n",
      "| rr582619@gmail.con|    9|32400| 35| 2100|  1|\n",
      "|addyp1911@gmail.com|    9|32400| 35| 2100|  2|\n",
      "+-------------------+-----+-----+---+-----+---+\n",
      "only showing top 2 rows\n",
      "\n"
     ]
    }
   ],
   "source": [
    "df5 = df4.join(z, on = ['user_name'], how = 'inner') \n",
    "df5.show(2)"
   ]
  },
  {
   "cell_type": "code",
   "execution_count": 12,
   "metadata": {},
   "outputs": [
    {
     "name": "stdout",
     "output_type": "stream",
     "text": [
      "+-------------------+-----+-----+---+-----+---+----------------+\n",
      "|          user_name|hours|h_sec|min|m_sec|sec|        late_hrs|\n",
      "+-------------------+-----+-----+---+-----+---+----------------+\n",
      "| rr582619@gmail.con|    9|32400| 35| 2100|  1|9.58361111111111|\n",
      "|addyp1911@gmail.com|    9|32400| 35| 2100|  2|9.58388888888889|\n",
      "+-------------------+-----+-----+---+-----+---+----------------+\n",
      "only showing top 2 rows\n",
      "\n"
     ]
    }
   ],
   "source": [
    "df6 = df5.withColumn('late_hrs', (df5['h_sec'] + df5['m_sec'] + df5['sec'])/3600)\n",
    "df6.show(2)"
   ]
  },
  {
   "cell_type": "code",
   "execution_count": 13,
   "metadata": {},
   "outputs": [
    {
     "name": "stdout",
     "output_type": "stream",
     "text": [
      "+------------------+\n",
      "|     avg(late_hrs)|\n",
      "+------------------+\n",
      "|10.233694444444442|\n",
      "+------------------+\n",
      "\n"
     ]
    }
   ],
   "source": [
    "average_late_hours = df6.select(avg('late_hrs'))\n",
    "average_late_hours.show()"
   ]
  },
  {
   "cell_type": "code",
   "execution_count": null,
   "metadata": {},
   "outputs": [],
   "source": []
  }
 ],
 "metadata": {
  "kernelspec": {
   "display_name": "Python 3",
   "language": "python",
   "name": "python3"
  },
  "language_info": {
   "codemirror_mode": {
    "name": "ipython",
    "version": 3
   },
   "file_extension": ".py",
   "mimetype": "text/x-python",
   "name": "python",
   "nbconvert_exporter": "python",
   "pygments_lexer": "ipython3",
   "version": "3.6.9"
  }
 },
 "nbformat": 4,
 "nbformat_minor": 4
}
