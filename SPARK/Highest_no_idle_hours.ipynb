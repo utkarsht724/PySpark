{
 "cells": [
  {
   "cell_type": "code",
   "execution_count": 1,
   "metadata": {},
   "outputs": [],
   "source": [
    "from pyspark.sql.functions import hour,minute,second,col,avg,when\n",
    "from pyspark.sql import SQLContext\n",
    "import pyspark.sql.functions as sql_functions\n",
    "import datetime\n",
    "sqlContext = SQLContext(sc)"
   ]
  },
  {
   "cell_type": "code",
   "execution_count": 2,
   "metadata": {},
   "outputs": [],
   "source": [
    "df = sqlContext.read.csv(\"hdfs://localhost:54310/user/hduser/user_log_data.csv\",header = True, inferSchema = True)"
   ]
  },
  {
   "cell_type": "code",
   "execution_count": 3,
   "metadata": {},
   "outputs": [],
   "source": [
    "df1 = df.withColumn('hours', hour(df['idle_time']))"
   ]
  },
  {
   "cell_type": "code",
   "execution_count": 4,
   "metadata": {},
   "outputs": [],
   "source": [
    "x = df1.select('user_name','hours')\n",
    "x = x.withColumn('h_s', x['hours'] * 3600)"
   ]
  },
  {
   "cell_type": "code",
   "execution_count": 5,
   "metadata": {},
   "outputs": [
    {
     "name": "stdout",
     "output_type": "stream",
     "text": [
      "+--------------------+-----+-----+\n",
      "|           user_name|hours|  h_s|\n",
      "+--------------------+-----+-----+\n",
      "|  sahil24c@gmail.com|    5|18000|\n",
      "|magadum.iranna@gm...|    2| 7200|\n",
      "|  yathink3@gmail.com|    1| 3600|\n",
      "|  shelkeva@gmail.com|    0|    0|\n",
      "|puruissimple@gmai...|    3|10800|\n",
      "|sangita.awaghad19...|    1| 3600|\n",
      "|vaishusawant143@g...|    0|    0|\n",
      "|     you@example.com|    2| 7200|\n",
      "|samadhanmahajan73...|    1| 3600|\n",
      "|vishnu23kumar@gma...|    4|14400|\n",
      "|ashutoshrit64@gma...|    0|    0|\n",
      "|akshaybavalekar10...|    1| 3600|\n",
      "|khairnarswapna99@...|    0|    0|\n",
      "|kukadeshilpaa7m95...|    0|    0|\n",
      "|sarikabarge111@gm...|    1| 3600|\n",
      "|narsimharaj.kasu0...|    2| 7200|\n",
      "|antonyalexcm@gmai...|    0|    0|\n",
      "|jitupatil937@gmai...|    0|    0|\n",
      "|akshaypatwari24@g...|    1| 3600|\n",
      "|aheteshams007@gma...|    1| 3600|\n",
      "+--------------------+-----+-----+\n",
      "only showing top 20 rows\n",
      "\n"
     ]
    }
   ],
   "source": [
    "x.show()"
   ]
  },
  {
   "cell_type": "code",
   "execution_count": 6,
   "metadata": {},
   "outputs": [],
   "source": [
    "df2 = df.withColumn('min', minute(df['idle_time']))\n",
    "y = df2.select('user_name', 'min')\n",
    "y = y.withColumn('m_s', y['min'] * 60)"
   ]
  },
  {
   "cell_type": "code",
   "execution_count": 7,
   "metadata": {},
   "outputs": [
    {
     "name": "stdout",
     "output_type": "stream",
     "text": [
      "+--------------------+---+----+\n",
      "|           user_name|min| m_s|\n",
      "+--------------------+---+----+\n",
      "|  sahil24c@gmail.com|  5| 300|\n",
      "|magadum.iranna@gm...| 15| 900|\n",
      "|  yathink3@gmail.com| 30|1800|\n",
      "|  shelkeva@gmail.com| 30|1800|\n",
      "|puruissimple@gmai...| 15| 900|\n",
      "|sangita.awaghad19...| 55|3300|\n",
      "|vaishusawant143@g...| 35|2100|\n",
      "|     you@example.com| 35|2100|\n",
      "|samadhanmahajan73...| 10| 600|\n",
      "|vishnu23kumar@gma...| 15| 900|\n",
      "|ashutoshrit64@gma...|  0|   0|\n",
      "|akshaybavalekar10...| 45|2700|\n",
      "|khairnarswapna99@...| 50|3000|\n",
      "|kukadeshilpaa7m95...| 35|2100|\n",
      "|sarikabarge111@gm...| 20|1200|\n",
      "|narsimharaj.kasu0...|  5| 300|\n",
      "|antonyalexcm@gmai...|  0|   0|\n",
      "|jitupatil937@gmai...| 55|3300|\n",
      "|akshaypatwari24@g...| 10| 600|\n",
      "|aheteshams007@gma...| 35|2100|\n",
      "+--------------------+---+----+\n",
      "only showing top 20 rows\n",
      "\n"
     ]
    }
   ],
   "source": [
    "y.show()"
   ]
  },
  {
   "cell_type": "code",
   "execution_count": 8,
   "metadata": {},
   "outputs": [],
   "source": [
    "df3 = df.withColumn('sec', second(df['idle_time']))\n",
    "z = df3.select('user_name', 'sec')"
   ]
  },
  {
   "cell_type": "code",
   "execution_count": 9,
   "metadata": {},
   "outputs": [
    {
     "name": "stdout",
     "output_type": "stream",
     "text": [
      "+--------------------+---+\n",
      "|           user_name|sec|\n",
      "+--------------------+---+\n",
      "|  sahil24c@gmail.com|  0|\n",
      "|magadum.iranna@gm...|  0|\n",
      "|  yathink3@gmail.com|  0|\n",
      "|  shelkeva@gmail.com|  0|\n",
      "|puruissimple@gmai...|  0|\n",
      "|sangita.awaghad19...|  0|\n",
      "|vaishusawant143@g...|  0|\n",
      "|     you@example.com|  0|\n",
      "|samadhanmahajan73...|  0|\n",
      "|vishnu23kumar@gma...|  0|\n",
      "|ashutoshrit64@gma...|  0|\n",
      "|akshaybavalekar10...|  0|\n",
      "|khairnarswapna99@...|  0|\n",
      "|kukadeshilpaa7m95...|  0|\n",
      "|sarikabarge111@gm...|  0|\n",
      "|narsimharaj.kasu0...|  0|\n",
      "|antonyalexcm@gmai...|  0|\n",
      "|jitupatil937@gmai...|  0|\n",
      "|akshaypatwari24@g...|  0|\n",
      "|aheteshams007@gma...|  0|\n",
      "+--------------------+---+\n",
      "only showing top 20 rows\n",
      "\n"
     ]
    }
   ],
   "source": [
    "z.show()"
   ]
  },
  {
   "cell_type": "code",
   "execution_count": 10,
   "metadata": {},
   "outputs": [],
   "source": [
    "#Joining the dataframes\n",
    "df4 = x.join(y, on = ['user_name'], how = 'inner')"
   ]
  },
  {
   "cell_type": "code",
   "execution_count": 11,
   "metadata": {},
   "outputs": [
    {
     "name": "stdout",
     "output_type": "stream",
     "text": [
      "+--------------------+-----+-----+---+----+\n",
      "|           user_name|hours|  h_s|min| m_s|\n",
      "+--------------------+-----+-----+---+----+\n",
      "|  sahil24c@gmail.com|    5|18000|  5| 300|\n",
      "|magadum.iranna@gm...|    2| 7200| 15| 900|\n",
      "|  yathink3@gmail.com|    1| 3600| 30|1800|\n",
      "|  shelkeva@gmail.com|    0|    0| 30|1800|\n",
      "|puruissimple@gmai...|    3|10800| 15| 900|\n",
      "|sangita.awaghad19...|    1| 3600| 55|3300|\n",
      "|vaishusawant143@g...|    0|    0| 35|2100|\n",
      "|     you@example.com|    2| 7200| 35|2100|\n",
      "|samadhanmahajan73...|    1| 3600| 10| 600|\n",
      "|vishnu23kumar@gma...|    4|14400| 15| 900|\n",
      "|ashutoshrit64@gma...|    0|    0|  0|   0|\n",
      "|akshaybavalekar10...|    1| 3600| 45|2700|\n",
      "|khairnarswapna99@...|    0|    0| 50|3000|\n",
      "|kukadeshilpaa7m95...|    0|    0| 35|2100|\n",
      "|sarikabarge111@gm...|    1| 3600| 20|1200|\n",
      "|narsimharaj.kasu0...|    2| 7200|  5| 300|\n",
      "|antonyalexcm@gmai...|    0|    0|  0|   0|\n",
      "|jitupatil937@gmai...|    0|    0| 55|3300|\n",
      "|akshaypatwari24@g...|    1| 3600| 10| 600|\n",
      "|aheteshams007@gma...|    1| 3600| 35|2100|\n",
      "+--------------------+-----+-----+---+----+\n",
      "only showing top 20 rows\n",
      "\n"
     ]
    }
   ],
   "source": [
    "df4.show()"
   ]
  },
  {
   "cell_type": "code",
   "execution_count": 12,
   "metadata": {},
   "outputs": [],
   "source": [
    "df5 = df4.join(z, on = ['user_name'], how = 'inner') "
   ]
  },
  {
   "cell_type": "code",
   "execution_count": 13,
   "metadata": {},
   "outputs": [
    {
     "name": "stdout",
     "output_type": "stream",
     "text": [
      "+--------------------+-----+-----+---+----+---+\n",
      "|           user_name|hours|  h_s|min| m_s|sec|\n",
      "+--------------------+-----+-----+---+----+---+\n",
      "|  sahil24c@gmail.com|    5|18000|  5| 300|  0|\n",
      "|magadum.iranna@gm...|    2| 7200| 15| 900|  0|\n",
      "|  yathink3@gmail.com|    1| 3600| 30|1800|  0|\n",
      "|  shelkeva@gmail.com|    0|    0| 30|1800|  0|\n",
      "|puruissimple@gmai...|    3|10800| 15| 900|  0|\n",
      "|sangita.awaghad19...|    1| 3600| 55|3300|  0|\n",
      "|vaishusawant143@g...|    0|    0| 35|2100|  0|\n",
      "|     you@example.com|    2| 7200| 35|2100|  0|\n",
      "|samadhanmahajan73...|    1| 3600| 10| 600|  0|\n",
      "|vishnu23kumar@gma...|    4|14400| 15| 900|  0|\n",
      "|ashutoshrit64@gma...|    0|    0|  0|   0|  0|\n",
      "|akshaybavalekar10...|    1| 3600| 45|2700|  0|\n",
      "|khairnarswapna99@...|    0|    0| 50|3000|  0|\n",
      "|kukadeshilpaa7m95...|    0|    0| 35|2100|  0|\n",
      "|sarikabarge111@gm...|    1| 3600| 20|1200|  0|\n",
      "|narsimharaj.kasu0...|    2| 7200|  5| 300|  0|\n",
      "|antonyalexcm@gmai...|    0|    0|  0|   0|  0|\n",
      "|jitupatil937@gmai...|    0|    0| 55|3300|  0|\n",
      "|akshaypatwari24@g...|    1| 3600| 10| 600|  0|\n",
      "|aheteshams007@gma...|    1| 3600| 35|2100|  0|\n",
      "+--------------------+-----+-----+---+----+---+\n",
      "only showing top 20 rows\n",
      "\n"
     ]
    }
   ],
   "source": [
    "df5.show()"
   ]
  },
  {
   "cell_type": "code",
   "execution_count": 14,
   "metadata": {},
   "outputs": [
    {
     "name": "stdout",
     "output_type": "stream",
     "text": [
      "+--------------------+-----+-----+---+----+---+------------------+\n",
      "|           user_name|hours|  h_s|min| m_s|sec|          Idle_hrs|\n",
      "+--------------------+-----+-----+---+----+---+------------------+\n",
      "|  sahil24c@gmail.com|    5|18000|  5| 300|  0| 5.083333333333333|\n",
      "|magadum.iranna@gm...|    2| 7200| 15| 900|  0|              2.25|\n",
      "|  yathink3@gmail.com|    1| 3600| 30|1800|  0|               1.5|\n",
      "|  shelkeva@gmail.com|    0|    0| 30|1800|  0|               0.5|\n",
      "|puruissimple@gmai...|    3|10800| 15| 900|  0|              3.25|\n",
      "|sangita.awaghad19...|    1| 3600| 55|3300|  0|1.9166666666666667|\n",
      "|vaishusawant143@g...|    0|    0| 35|2100|  0|0.5833333333333334|\n",
      "|     you@example.com|    2| 7200| 35|2100|  0|2.5833333333333335|\n",
      "|samadhanmahajan73...|    1| 3600| 10| 600|  0|1.1666666666666667|\n",
      "|vishnu23kumar@gma...|    4|14400| 15| 900|  0|              4.25|\n",
      "|ashutoshrit64@gma...|    0|    0|  0|   0|  0|               0.0|\n",
      "|akshaybavalekar10...|    1| 3600| 45|2700|  0|              1.75|\n",
      "|khairnarswapna99@...|    0|    0| 50|3000|  0|0.8333333333333334|\n",
      "|kukadeshilpaa7m95...|    0|    0| 35|2100|  0|0.5833333333333334|\n",
      "|sarikabarge111@gm...|    1| 3600| 20|1200|  0|1.3333333333333333|\n",
      "|narsimharaj.kasu0...|    2| 7200|  5| 300|  0|2.0833333333333335|\n",
      "|antonyalexcm@gmai...|    0|    0|  0|   0|  0|               0.0|\n",
      "|jitupatil937@gmai...|    0|    0| 55|3300|  0|0.9166666666666666|\n",
      "|akshaypatwari24@g...|    1| 3600| 10| 600|  0|1.1666666666666667|\n",
      "|aheteshams007@gma...|    1| 3600| 35|2100|  0|1.5833333333333333|\n",
      "+--------------------+-----+-----+---+----+---+------------------+\n",
      "only showing top 20 rows\n",
      "\n"
     ]
    }
   ],
   "source": [
    "df6 = df5.withColumn('Idle_hrs', (df5['h_s'] + df5['m_s'] + df5['sec'])/3600)\n",
    "df6.show()"
   ]
  },
  {
   "cell_type": "code",
   "execution_count": 15,
   "metadata": {},
   "outputs": [
    {
     "name": "stdout",
     "output_type": "stream",
     "text": [
      "+--------------------+-----+----+------------------+\n",
      "|           user_name|  h_s| m_s|          Idle_hrs|\n",
      "+--------------------+-----+----+------------------+\n",
      "|  sahil24c@gmail.com|18000| 300| 5.083333333333333|\n",
      "|magadum.iranna@gm...| 7200| 900|              2.25|\n",
      "|  yathink3@gmail.com| 3600|1800|               1.5|\n",
      "|  shelkeva@gmail.com|    0|1800|               0.5|\n",
      "|puruissimple@gmai...|10800| 900|              3.25|\n",
      "|sangita.awaghad19...| 3600|3300|1.9166666666666667|\n",
      "|vaishusawant143@g...|    0|2100|0.5833333333333334|\n",
      "|     you@example.com| 7200|2100|2.5833333333333335|\n",
      "|samadhanmahajan73...| 3600| 600|1.1666666666666667|\n",
      "|vishnu23kumar@gma...|14400| 900|              4.25|\n",
      "|ashutoshrit64@gma...|    0|   0|               0.0|\n",
      "|akshaybavalekar10...| 3600|2700|              1.75|\n",
      "|khairnarswapna99@...|    0|3000|0.8333333333333334|\n",
      "|kukadeshilpaa7m95...|    0|2100|0.5833333333333334|\n",
      "|sarikabarge111@gm...| 3600|1200|1.3333333333333333|\n",
      "|narsimharaj.kasu0...| 7200| 300|2.0833333333333335|\n",
      "|antonyalexcm@gmai...|    0|   0|               0.0|\n",
      "|jitupatil937@gmai...|    0|3300|0.9166666666666666|\n",
      "|akshaypatwari24@g...| 3600| 600|1.1666666666666667|\n",
      "|aheteshams007@gma...| 3600|2100|1.5833333333333333|\n",
      "+--------------------+-----+----+------------------+\n",
      "only showing top 20 rows\n",
      "\n"
     ]
    }
   ],
   "source": [
    "df7 = df6.drop(\"hours\",\"min\",\"sec\")\n",
    "df7.show()"
   ]
  },
  {
   "cell_type": "code",
   "execution_count": 16,
   "metadata": {},
   "outputs": [
    {
     "name": "stdout",
     "output_type": "stream",
     "text": [
      "+-------------+\n",
      "|avg(idle_hrs)|\n",
      "+-------------+\n",
      "|      2.03125|\n",
      "+-------------+\n",
      "\n"
     ]
    }
   ],
   "source": [
    "#calculating average hours\n",
    "average_hrs = df7.select(avg('idle_hrs'))\n",
    "average_hrs.show()"
   ]
  },
  {
   "cell_type": "code",
   "execution_count": 17,
   "metadata": {},
   "outputs": [],
   "source": [
    "avg_count = df7.filter(sql_functions.col(\"idle_hrs\") > 2.03125)"
   ]
  },
  {
   "cell_type": "code",
   "execution_count": 18,
   "metadata": {},
   "outputs": [
    {
     "data": {
      "text/plain": [
       "27"
      ]
     },
     "execution_count": 18,
     "metadata": {},
     "output_type": "execute_result"
    }
   ],
   "source": [
    "avg_count.count()"
   ]
  },
  {
   "cell_type": "code",
   "execution_count": 19,
   "metadata": {},
   "outputs": [
    {
     "name": "stdout",
     "output_type": "stream",
     "text": [
      "+--------------------+\n",
      "|           user_name|\n",
      "+--------------------+\n",
      "|  yathink3@gmail.com|\n",
      "|  shelkeva@gmail.com|\n",
      "|sangita.awaghad19...|\n",
      "|vaishusawant143@g...|\n",
      "|samadhanmahajan73...|\n",
      "|ashutoshrit64@gma...|\n",
      "|akshaybavalekar10...|\n",
      "|khairnarswapna99@...|\n",
      "|kukadeshilpaa7m95...|\n",
      "|sarikabarge111@gm...|\n",
      "|antonyalexcm@gmai...|\n",
      "|jitupatil937@gmai...|\n",
      "|akshaypatwari24@g...|\n",
      "|aheteshams007@gma...|\n",
      "|kaleshwetaanil@gm...|\n",
      "|samruddhichitnis0...|\n",
      "|prajktasraut16@gm...|\n",
      "|damodharn21@gmail...|\n",
      "|kumud50garg@gmail...|\n",
      "|prathameshsalap@g...|\n",
      "+--------------------+\n",
      "only showing top 20 rows\n",
      "\n"
     ]
    }
   ],
   "source": [
    "df7.filter(df7['idle_hrs'] < 2.03125).select('user_name').show()"
   ]
  },
  {
   "cell_type": "code",
   "execution_count": null,
   "metadata": {},
   "outputs": [],
   "source": []
  }
 ],
 "metadata": {
  "kernelspec": {
   "display_name": "Python 3",
   "language": "python",
   "name": "python3"
  },
  "language_info": {
   "codemirror_mode": {
    "name": "ipython",
    "version": 3
   },
   "file_extension": ".py",
   "mimetype": "text/x-python",
   "name": "python",
   "nbconvert_exporter": "python",
   "pygments_lexer": "ipython3",
   "version": "3.6.9"
  }
 },
 "nbformat": 4,
 "nbformat_minor": 4
}
