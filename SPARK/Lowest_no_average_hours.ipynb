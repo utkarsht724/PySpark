{
 "cells": [
  {
   "cell_type": "code",
   "execution_count": 1,
   "metadata": {},
   "outputs": [],
   "source": [
    "from pyspark.sql.functions import hour,minute,second,col,avg,when\n",
    "from pyspark.sql import SQLContext\n",
    "import pyspark.sql.functions as sql_functions\n",
    "import datetime\n",
    "sqlContext = SQLContext(sc)"
   ]
  },
  {
   "cell_type": "code",
   "execution_count": 2,
   "metadata": {},
   "outputs": [],
   "source": [
    "df = sqlContext.read.csv(\"hdfs://localhost:54310/user/hduser/user_log_data.csv\",header = True, inferSchema = True)"
   ]
  },
  {
   "cell_type": "code",
   "execution_count": 3,
   "metadata": {},
   "outputs": [
    {
     "name": "stdout",
     "output_type": "stream",
     "text": [
      "+--------------------+-------------------+-------------------+-------------------+-------------------+\n",
      "|           user_name|          idle_time|      working_hours|         start_time|           end_time|\n",
      "+--------------------+-------------------+-------------------+-------------------+-------------------+\n",
      "|  sahil24c@gmail.com|2019-10-24 05:05:00|2019-10-24 05:50:00|2019-10-24 08:30:02|2019-10-24 19:25:02|\n",
      "|magadum.iranna@gm...|2019-10-24 02:15:00|2019-10-24 08:39:59|2019-10-24 08:30:02|2019-10-24 19:25:01|\n",
      "|  yathink3@gmail.com|2019-10-24 01:30:00|2019-10-24 09:24:59|2019-10-24 08:30:02|2019-10-24 19:25:01|\n",
      "|  shelkeva@gmail.com|2019-10-24 00:30:00|2019-10-24 09:10:01|2019-10-24 08:45:01|2019-10-24 18:25:02|\n",
      "|puruissimple@gmai...|2019-10-24 03:15:00|2019-10-24 07:19:59|2019-10-24 08:50:02|2019-10-24 19:25:01|\n",
      "|sangita.awaghad19...|2019-10-24 01:55:00|2019-10-24 08:40:00|2019-10-24 08:50:01|2019-10-24 19:25:01|\n",
      "|vaishusawant143@g...|2019-10-24 00:35:00|2019-10-24 09:55:00|2019-10-24 08:55:01|2019-10-24 19:25:01|\n",
      "|     you@example.com|2019-10-24 02:35:00|2019-10-24 08:04:59|2019-10-24 08:45:02|2019-10-24 19:25:01|\n",
      "|samadhanmahajan73...|2019-10-24 01:10:00|2019-10-24 08:39:59|2019-10-24 09:00:02|2019-10-24 18:50:01|\n",
      "|vishnu23kumar@gma...|2019-10-24 04:15:00|2019-10-24 06:10:00|2019-10-24 09:00:01|2019-10-24 19:25:01|\n",
      "|ashutoshrit64@gma...|2019-10-24 00:00:00|2019-10-24 10:25:01|2019-10-24 09:00:01|2019-10-24 19:25:02|\n",
      "|akshaybavalekar10...|2019-10-24 01:45:00|2019-10-24 08:35:00|2019-10-24 09:05:01|2019-10-24 19:25:01|\n",
      "|khairnarswapna99@...|2019-10-24 00:50:00|2019-10-24 09:25:00|2019-10-24 09:10:01|2019-10-24 19:25:01|\n",
      "|kukadeshilpaa7m95...|2019-10-24 00:35:00|2019-10-24 09:40:00|2019-10-24 09:10:01|2019-10-24 19:25:01|\n",
      "|sarikabarge111@gm...|2019-10-24 01:20:00|2019-10-24 08:45:00|2019-10-24 09:10:01|2019-10-24 19:15:01|\n",
      "|narsimharaj.kasu0...|2019-10-24 02:05:00|2019-10-24 08:05:00|2019-10-24 09:10:01|2019-10-24 19:20:01|\n",
      "|antonyalexcm@gmai...|2019-10-24 00:00:00|2019-10-24 10:15:00|2019-10-24 09:10:01|2019-10-24 19:25:01|\n",
      "|jitupatil937@gmai...|2019-10-24 00:55:00|2019-10-24 09:20:00|2019-10-24 09:10:01|2019-10-24 19:25:01|\n",
      "|akshaypatwari24@g...|2019-10-24 01:10:00|2019-10-24 09:05:00|2019-10-24 09:10:01|2019-10-24 19:25:01|\n",
      "|aheteshams007@gma...|2019-10-24 01:35:00|2019-10-24 08:50:01|2019-10-24 09:00:01|2019-10-24 19:25:02|\n",
      "+--------------------+-------------------+-------------------+-------------------+-------------------+\n",
      "only showing top 20 rows\n",
      "\n"
     ]
    }
   ],
   "source": [
    "df.show()"
   ]
  },
  {
   "cell_type": "code",
   "execution_count": 4,
   "metadata": {},
   "outputs": [
    {
     "name": "stdout",
     "output_type": "stream",
     "text": [
      "root\n",
      " |-- user_name: string (nullable = true)\n",
      " |-- idle_time: timestamp (nullable = true)\n",
      " |-- working_hours: timestamp (nullable = true)\n",
      " |-- start_time: timestamp (nullable = true)\n",
      " |-- end_time: timestamp (nullable = true)\n",
      "\n"
     ]
    }
   ],
   "source": [
    "df.printSchema()"
   ]
  },
  {
   "cell_type": "code",
   "execution_count": 5,
   "metadata": {},
   "outputs": [],
   "source": [
    "\n",
    "df1 = df.withColumn('hours', hour(df['working_hours']))"
   ]
  },
  {
   "cell_type": "code",
   "execution_count": 6,
   "metadata": {},
   "outputs": [],
   "source": [
    "x = df1.select('user_name','hours')"
   ]
  },
  {
   "cell_type": "code",
   "execution_count": 7,
   "metadata": {},
   "outputs": [
    {
     "name": "stdout",
     "output_type": "stream",
     "text": [
      "+--------------------+-----+\n",
      "|           user_name|hours|\n",
      "+--------------------+-----+\n",
      "|  sahil24c@gmail.com|    5|\n",
      "|magadum.iranna@gm...|    8|\n",
      "|  yathink3@gmail.com|    9|\n",
      "|  shelkeva@gmail.com|    9|\n",
      "|puruissimple@gmai...|    7|\n",
      "|sangita.awaghad19...|    8|\n",
      "|vaishusawant143@g...|    9|\n",
      "|     you@example.com|    8|\n",
      "|samadhanmahajan73...|    8|\n",
      "|vishnu23kumar@gma...|    6|\n",
      "|ashutoshrit64@gma...|   10|\n",
      "|akshaybavalekar10...|    8|\n",
      "|khairnarswapna99@...|    9|\n",
      "|kukadeshilpaa7m95...|    9|\n",
      "|sarikabarge111@gm...|    8|\n",
      "|narsimharaj.kasu0...|    8|\n",
      "|antonyalexcm@gmai...|   10|\n",
      "|jitupatil937@gmai...|    9|\n",
      "|akshaypatwari24@g...|    9|\n",
      "|aheteshams007@gma...|    8|\n",
      "+--------------------+-----+\n",
      "only showing top 20 rows\n",
      "\n"
     ]
    }
   ],
   "source": [
    "x.show()"
   ]
  },
  {
   "cell_type": "code",
   "execution_count": 8,
   "metadata": {},
   "outputs": [],
   "source": [
    "\n",
    "x = x.withColumn('h_s', x['hours'] * 3600)"
   ]
  },
  {
   "cell_type": "code",
   "execution_count": 9,
   "metadata": {},
   "outputs": [
    {
     "name": "stdout",
     "output_type": "stream",
     "text": [
      "+--------------------+-----+-----+\n",
      "|           user_name|hours|  h_s|\n",
      "+--------------------+-----+-----+\n",
      "|  sahil24c@gmail.com|    5|18000|\n",
      "|magadum.iranna@gm...|    8|28800|\n",
      "|  yathink3@gmail.com|    9|32400|\n",
      "|  shelkeva@gmail.com|    9|32400|\n",
      "|puruissimple@gmai...|    7|25200|\n",
      "|sangita.awaghad19...|    8|28800|\n",
      "|vaishusawant143@g...|    9|32400|\n",
      "|     you@example.com|    8|28800|\n",
      "|samadhanmahajan73...|    8|28800|\n",
      "|vishnu23kumar@gma...|    6|21600|\n",
      "|ashutoshrit64@gma...|   10|36000|\n",
      "|akshaybavalekar10...|    8|28800|\n",
      "|khairnarswapna99@...|    9|32400|\n",
      "|kukadeshilpaa7m95...|    9|32400|\n",
      "|sarikabarge111@gm...|    8|28800|\n",
      "|narsimharaj.kasu0...|    8|28800|\n",
      "|antonyalexcm@gmai...|   10|36000|\n",
      "|jitupatil937@gmai...|    9|32400|\n",
      "|akshaypatwari24@g...|    9|32400|\n",
      "|aheteshams007@gma...|    8|28800|\n",
      "+--------------------+-----+-----+\n",
      "only showing top 20 rows\n",
      "\n"
     ]
    }
   ],
   "source": [
    "x.show()"
   ]
  },
  {
   "cell_type": "code",
   "execution_count": 10,
   "metadata": {},
   "outputs": [],
   "source": [
    "df2 = df.withColumn('min', minute(df['working_hours']))"
   ]
  },
  {
   "cell_type": "code",
   "execution_count": 11,
   "metadata": {},
   "outputs": [],
   "source": [
    "y = df2.select('user_name', 'min')\n"
   ]
  },
  {
   "cell_type": "code",
   "execution_count": 12,
   "metadata": {},
   "outputs": [
    {
     "name": "stdout",
     "output_type": "stream",
     "text": [
      "+--------------------+---+----+\n",
      "|           user_name|min| m_s|\n",
      "+--------------------+---+----+\n",
      "|  sahil24c@gmail.com| 50|3000|\n",
      "|magadum.iranna@gm...| 39|2340|\n",
      "|  yathink3@gmail.com| 24|1440|\n",
      "|  shelkeva@gmail.com| 10| 600|\n",
      "|puruissimple@gmai...| 19|1140|\n",
      "|sangita.awaghad19...| 40|2400|\n",
      "|vaishusawant143@g...| 55|3300|\n",
      "|     you@example.com|  4| 240|\n",
      "|samadhanmahajan73...| 39|2340|\n",
      "|vishnu23kumar@gma...| 10| 600|\n",
      "|ashutoshrit64@gma...| 25|1500|\n",
      "|akshaybavalekar10...| 35|2100|\n",
      "|khairnarswapna99@...| 25|1500|\n",
      "|kukadeshilpaa7m95...| 40|2400|\n",
      "|sarikabarge111@gm...| 45|2700|\n",
      "|narsimharaj.kasu0...|  5| 300|\n",
      "|antonyalexcm@gmai...| 15| 900|\n",
      "|jitupatil937@gmai...| 20|1200|\n",
      "|akshaypatwari24@g...|  5| 300|\n",
      "|aheteshams007@gma...| 50|3000|\n",
      "+--------------------+---+----+\n",
      "only showing top 20 rows\n",
      "\n"
     ]
    }
   ],
   "source": [
    "y = y.withColumn('m_s', y['min'] * 60)\n",
    "y.show()"
   ]
  },
  {
   "cell_type": "code",
   "execution_count": 13,
   "metadata": {},
   "outputs": [],
   "source": [
    "df3 = df.withColumn('sec', second(df['working_hours']))"
   ]
  },
  {
   "cell_type": "code",
   "execution_count": 14,
   "metadata": {},
   "outputs": [
    {
     "name": "stdout",
     "output_type": "stream",
     "text": [
      "+--------------------+---+\n",
      "|           user_name|sec|\n",
      "+--------------------+---+\n",
      "|  sahil24c@gmail.com|  0|\n",
      "|magadum.iranna@gm...| 59|\n",
      "|  yathink3@gmail.com| 59|\n",
      "|  shelkeva@gmail.com|  1|\n",
      "|puruissimple@gmai...| 59|\n",
      "|sangita.awaghad19...|  0|\n",
      "|vaishusawant143@g...|  0|\n",
      "|     you@example.com| 59|\n",
      "|samadhanmahajan73...| 59|\n",
      "|vishnu23kumar@gma...|  0|\n",
      "|ashutoshrit64@gma...|  1|\n",
      "|akshaybavalekar10...|  0|\n",
      "|khairnarswapna99@...|  0|\n",
      "|kukadeshilpaa7m95...|  0|\n",
      "|sarikabarge111@gm...|  0|\n",
      "|narsimharaj.kasu0...|  0|\n",
      "|antonyalexcm@gmai...|  0|\n",
      "|jitupatil937@gmai...|  0|\n",
      "|akshaypatwari24@g...|  0|\n",
      "|aheteshams007@gma...|  1|\n",
      "+--------------------+---+\n",
      "only showing top 20 rows\n",
      "\n"
     ]
    }
   ],
   "source": [
    "z = df3.select('user_name', 'sec')\n",
    "z.show()"
   ]
  },
  {
   "cell_type": "code",
   "execution_count": 15,
   "metadata": {},
   "outputs": [],
   "source": [
    "#Joining the dataframes\n",
    "df4 = x.join(y, on = ['user_name'], how = 'inner')"
   ]
  },
  {
   "cell_type": "code",
   "execution_count": 16,
   "metadata": {},
   "outputs": [
    {
     "name": "stdout",
     "output_type": "stream",
     "text": [
      "+--------------------+-----+-----+---+----+\n",
      "|           user_name|hours|  h_s|min| m_s|\n",
      "+--------------------+-----+-----+---+----+\n",
      "|  sahil24c@gmail.com|    5|18000| 50|3000|\n",
      "|magadum.iranna@gm...|    8|28800| 39|2340|\n",
      "|  yathink3@gmail.com|    9|32400| 24|1440|\n",
      "|  shelkeva@gmail.com|    9|32400| 10| 600|\n",
      "|puruissimple@gmai...|    7|25200| 19|1140|\n",
      "|sangita.awaghad19...|    8|28800| 40|2400|\n",
      "|vaishusawant143@g...|    9|32400| 55|3300|\n",
      "|     you@example.com|    8|28800|  4| 240|\n",
      "|samadhanmahajan73...|    8|28800| 39|2340|\n",
      "|vishnu23kumar@gma...|    6|21600| 10| 600|\n",
      "|ashutoshrit64@gma...|   10|36000| 25|1500|\n",
      "|akshaybavalekar10...|    8|28800| 35|2100|\n",
      "|khairnarswapna99@...|    9|32400| 25|1500|\n",
      "|kukadeshilpaa7m95...|    9|32400| 40|2400|\n",
      "|sarikabarge111@gm...|    8|28800| 45|2700|\n",
      "|narsimharaj.kasu0...|    8|28800|  5| 300|\n",
      "|antonyalexcm@gmai...|   10|36000| 15| 900|\n",
      "|jitupatil937@gmai...|    9|32400| 20|1200|\n",
      "|akshaypatwari24@g...|    9|32400|  5| 300|\n",
      "|aheteshams007@gma...|    8|28800| 50|3000|\n",
      "+--------------------+-----+-----+---+----+\n",
      "only showing top 20 rows\n",
      "\n"
     ]
    }
   ],
   "source": [
    "df4.show()"
   ]
  },
  {
   "cell_type": "code",
   "execution_count": 17,
   "metadata": {},
   "outputs": [],
   "source": [
    "df5 = df4.join(z, on = ['user_name'], how = 'inner') "
   ]
  },
  {
   "cell_type": "code",
   "execution_count": 18,
   "metadata": {},
   "outputs": [
    {
     "name": "stdout",
     "output_type": "stream",
     "text": [
      "+--------------------+-----+-----+---+----+---+\n",
      "|           user_name|hours|  h_s|min| m_s|sec|\n",
      "+--------------------+-----+-----+---+----+---+\n",
      "|  sahil24c@gmail.com|    5|18000| 50|3000|  0|\n",
      "|magadum.iranna@gm...|    8|28800| 39|2340| 59|\n",
      "|  yathink3@gmail.com|    9|32400| 24|1440| 59|\n",
      "|  shelkeva@gmail.com|    9|32400| 10| 600|  1|\n",
      "|puruissimple@gmai...|    7|25200| 19|1140| 59|\n",
      "|sangita.awaghad19...|    8|28800| 40|2400|  0|\n",
      "|vaishusawant143@g...|    9|32400| 55|3300|  0|\n",
      "|     you@example.com|    8|28800|  4| 240| 59|\n",
      "|samadhanmahajan73...|    8|28800| 39|2340| 59|\n",
      "|vishnu23kumar@gma...|    6|21600| 10| 600|  0|\n",
      "|ashutoshrit64@gma...|   10|36000| 25|1500|  1|\n",
      "|akshaybavalekar10...|    8|28800| 35|2100|  0|\n",
      "|khairnarswapna99@...|    9|32400| 25|1500|  0|\n",
      "|kukadeshilpaa7m95...|    9|32400| 40|2400|  0|\n",
      "|sarikabarge111@gm...|    8|28800| 45|2700|  0|\n",
      "|narsimharaj.kasu0...|    8|28800|  5| 300|  0|\n",
      "|antonyalexcm@gmai...|   10|36000| 15| 900|  0|\n",
      "|jitupatil937@gmai...|    9|32400| 20|1200|  0|\n",
      "|akshaypatwari24@g...|    9|32400|  5| 300|  0|\n",
      "|aheteshams007@gma...|    8|28800| 50|3000|  1|\n",
      "+--------------------+-----+-----+---+----+---+\n",
      "only showing top 20 rows\n",
      "\n"
     ]
    }
   ],
   "source": [
    "df5.show()"
   ]
  },
  {
   "cell_type": "code",
   "execution_count": 19,
   "metadata": {},
   "outputs": [],
   "source": [
    "df6 = df5.drop('hours', 'min')"
   ]
  },
  {
   "cell_type": "code",
   "execution_count": 20,
   "metadata": {},
   "outputs": [
    {
     "name": "stdout",
     "output_type": "stream",
     "text": [
      "+--------------------+-----+----+---+\n",
      "|           user_name|  h_s| m_s|sec|\n",
      "+--------------------+-----+----+---+\n",
      "|  sahil24c@gmail.com|18000|3000|  0|\n",
      "|magadum.iranna@gm...|28800|2340| 59|\n",
      "|  yathink3@gmail.com|32400|1440| 59|\n",
      "|  shelkeva@gmail.com|32400| 600|  1|\n",
      "|puruissimple@gmai...|25200|1140| 59|\n",
      "|sangita.awaghad19...|28800|2400|  0|\n",
      "|vaishusawant143@g...|32400|3300|  0|\n",
      "|     you@example.com|28800| 240| 59|\n",
      "|samadhanmahajan73...|28800|2340| 59|\n",
      "|vishnu23kumar@gma...|21600| 600|  0|\n",
      "|ashutoshrit64@gma...|36000|1500|  1|\n",
      "|akshaybavalekar10...|28800|2100|  0|\n",
      "|khairnarswapna99@...|32400|1500|  0|\n",
      "|kukadeshilpaa7m95...|32400|2400|  0|\n",
      "|sarikabarge111@gm...|28800|2700|  0|\n",
      "|narsimharaj.kasu0...|28800| 300|  0|\n",
      "|antonyalexcm@gmai...|36000| 900|  0|\n",
      "|jitupatil937@gmai...|32400|1200|  0|\n",
      "|akshaypatwari24@g...|32400| 300|  0|\n",
      "|aheteshams007@gma...|28800|3000|  1|\n",
      "+--------------------+-----+----+---+\n",
      "only showing top 20 rows\n",
      "\n"
     ]
    }
   ],
   "source": [
    "df6.show()"
   ]
  },
  {
   "cell_type": "code",
   "execution_count": 21,
   "metadata": {},
   "outputs": [],
   "source": [
    "\n",
    "df7 = df6.withColumn('working_hours', (df6['h_s'] + df6['m_s'] + df6['sec'])/3600)"
   ]
  },
  {
   "cell_type": "code",
   "execution_count": 22,
   "metadata": {},
   "outputs": [
    {
     "name": "stdout",
     "output_type": "stream",
     "text": [
      "+--------------------+-----+----+---+------------------+\n",
      "|           user_name|  h_s| m_s|sec|     working_hours|\n",
      "+--------------------+-----+----+---+------------------+\n",
      "|  sahil24c@gmail.com|18000|3000|  0| 5.833333333333333|\n",
      "|magadum.iranna@gm...|28800|2340| 59|  8.66638888888889|\n",
      "|  yathink3@gmail.com|32400|1440| 59|  9.41638888888889|\n",
      "|  shelkeva@gmail.com|32400| 600|  1| 9.166944444444445|\n",
      "|puruissimple@gmai...|25200|1140| 59| 7.333055555555555|\n",
      "|sangita.awaghad19...|28800|2400|  0| 8.666666666666666|\n",
      "|vaishusawant143@g...|32400|3300|  0| 9.916666666666666|\n",
      "|     you@example.com|28800| 240| 59| 8.083055555555555|\n",
      "|samadhanmahajan73...|28800|2340| 59|  8.66638888888889|\n",
      "|vishnu23kumar@gma...|21600| 600|  0| 6.166666666666667|\n",
      "|ashutoshrit64@gma...|36000|1500|  1|10.416944444444445|\n",
      "|akshaybavalekar10...|28800|2100|  0| 8.583333333333334|\n",
      "|khairnarswapna99@...|32400|1500|  0| 9.416666666666666|\n",
      "|kukadeshilpaa7m95...|32400|2400|  0| 9.666666666666666|\n",
      "|sarikabarge111@gm...|28800|2700|  0|              8.75|\n",
      "|narsimharaj.kasu0...|28800| 300|  0| 8.083333333333334|\n",
      "|antonyalexcm@gmai...|36000| 900|  0|             10.25|\n",
      "|jitupatil937@gmai...|32400|1200|  0| 9.333333333333334|\n",
      "|akshaypatwari24@g...|32400| 300|  0| 9.083333333333334|\n",
      "|aheteshams007@gma...|28800|3000|  1|  8.83361111111111|\n",
      "+--------------------+-----+----+---+------------------+\n",
      "only showing top 20 rows\n",
      "\n"
     ]
    }
   ],
   "source": [
    "df7.show()"
   ]
  },
  {
   "cell_type": "code",
   "execution_count": 23,
   "metadata": {},
   "outputs": [
    {
     "name": "stdout",
     "output_type": "stream",
     "text": [
      "+------------------+\n",
      "|avg(working_hours)|\n",
      "+------------------+\n",
      "| 7.137449494949498|\n",
      "+------------------+\n",
      "\n"
     ]
    }
   ],
   "source": [
    "####calculating average hours\n",
    "average = df7.select(avg('working_hours'))\n",
    "average.show()\n"
   ]
  },
  {
   "cell_type": "code",
   "execution_count": 24,
   "metadata": {},
   "outputs": [
    {
     "data": {
      "text/plain": [
       "[('user_name', 'string'),\n",
       " ('h_s', 'int'),\n",
       " ('m_s', 'int'),\n",
       " ('sec', 'int'),\n",
       " ('working_hours', 'double')]"
      ]
     },
     "execution_count": 24,
     "metadata": {},
     "output_type": "execute_result"
    }
   ],
   "source": [
    "df7.dtypes"
   ]
  },
  {
   "cell_type": "code",
   "execution_count": 25,
   "metadata": {},
   "outputs": [
    {
     "name": "stdout",
     "output_type": "stream",
     "text": [
      "+--------------------+\n",
      "|           user_name|\n",
      "+--------------------+\n",
      "|  sahil24c@gmail.com|\n",
      "|vishnu23kumar@gma...|\n",
      "|sargampandey27oct...|\n",
      "|ayush.saraf47@gma...|\n",
      "|mr.kundare@gmail.com|\n",
      "|ruchikachile30199...|\n",
      "|“shivnajalisangal...|\n",
      "| addyp1911@gmail.com|\n",
      "|dipakalagate1991@...|\n",
      "|gaikwadr576@gmail...|\n",
      "|tekina.makin@gmai...|\n",
      "|mishrasushil889@g...|\n",
      "| blsonalib@gmail.com|\n",
      "|hakepratiksha55@g...|\n",
      "|vaibhavpratihar17...|\n",
      "|bsaivenkatavikas@...|\n",
      "| youremail@email.com|\n",
      "|polelaxman001@gma...|\n",
      "|er.mukulvij96@gma...|\n",
      "| dileep.bs@yahoo.com|\n",
      "+--------------------+\n",
      "only showing top 20 rows\n",
      "\n"
     ]
    }
   ],
   "source": [
    "df7.filter(df7['working_hours'] < 7.137449494949498).select('user_name').show()"
   ]
  },
  {
   "cell_type": "code",
   "execution_count": null,
   "metadata": {},
   "outputs": [],
   "source": []
  }
 ],
 "metadata": {
  "kernelspec": {
   "display_name": "Python 3",
   "language": "python",
   "name": "python3"
  },
  "language_info": {
   "codemirror_mode": {
    "name": "ipython",
    "version": 3
   },
   "file_extension": ".py",
   "mimetype": "text/x-python",
   "name": "python",
   "nbconvert_exporter": "python",
   "pygments_lexer": "ipython3",
   "version": "3.6.9"
  }
 },
 "nbformat": 4,
 "nbformat_minor": 4
}
