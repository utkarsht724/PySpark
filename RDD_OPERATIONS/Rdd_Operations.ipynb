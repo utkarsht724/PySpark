{
 "cells": [
  {
   "cell_type": "code",
   "execution_count": 1,
   "metadata": {},
   "outputs": [
    {
     "ename": "SyntaxError",
     "evalue": "invalid syntax (<ipython-input-1-3253c09cf32d>, line 1)",
     "output_type": "error",
     "traceback": [
      "\u001b[0;36m  File \u001b[0;32m\"<ipython-input-1-3253c09cf32d>\"\u001b[0;36m, line \u001b[0;32m1\u001b[0m\n\u001b[0;31m    rom pyspark.sql.functions import hour,minute,second,col,avg,when\u001b[0m\n\u001b[0m              ^\u001b[0m\n\u001b[0;31mSyntaxError\u001b[0m\u001b[0;31m:\u001b[0m invalid syntax\n"
     ]
    }
   ],
   "source": [
    "rom pyspark.sql.functions import hour,minute,second,col,avg,when\n",
    "from pyspark.sql import SQLContext\n",
    "import pyspark.sql.functions as sql_functions\n",
    "sqlContext = SQLContext(sc)"
   ]
  },
  {
   "cell_type": "code",
   "execution_count": 2,
   "metadata": {},
   "outputs": [],
   "source": [
    "from pyspark.sql.functions import hour,minute,second,col,avg,when\n",
    "from pyspark.sql import SQLContext\n",
    "import pyspark.sql.functions as sql_functions\n",
    "sqlContext = SQLContext(sc)"
   ]
  },
  {
   "cell_type": "code",
   "execution_count": 3,
   "metadata": {},
   "outputs": [],
   "source": [
    "df = sqlContext.read.csv(\"file:///home/utkarsh/Downloads/SacramentocrimeJanuary2006.csv\",header = True, inferSchema = True)"
   ]
  },
  {
   "cell_type": "code",
   "execution_count": 4,
   "metadata": {},
   "outputs": [
    {
     "name": "stdout",
     "output_type": "stream",
     "text": [
      "+-----------+-------------------+--------+----------+----+--------------------+-------------+-----------+------------+\n",
      "|  cdatetime|            address|district|      beat|grid|          crimedescr|ucr_ncic_code|   latitude|   longitude|\n",
      "+-----------+-------------------+--------+----------+----+--------------------+-------------+-----------+------------+\n",
      "|1/1/06 0:00| 3108 OCCIDENTAL DR|       3|3C        |1115|10851(A)VC TAKE V...|         2404|38.55042047|-121.3914158|\n",
      "|1/1/06 0:00|2082 EXPEDITION WAY|       5|5A        |1512|459 PC  BURGLARY ...|         2204|38.47350069|-121.4901858|\n",
      "+-----------+-------------------+--------+----------+----+--------------------+-------------+-----------+------------+\n",
      "only showing top 2 rows\n",
      "\n"
     ]
    }
   ],
   "source": [
    "\n",
    "#performaing Action\n",
    "df.show(2)"
   ]
  },
  {
   "cell_type": "code",
   "execution_count": 5,
   "metadata": {},
   "outputs": [
    {
     "data": {
      "text/plain": [
       "7584"
      ]
     },
     "execution_count": 5,
     "metadata": {},
     "output_type": "execute_result"
    }
   ],
   "source": [
    "#Counting total people \n",
    "df1 = df.select('address').count()\n",
    "df1"
   ]
  },
  {
   "cell_type": "code",
   "execution_count": 6,
   "metadata": {},
   "outputs": [
    {
     "name": "stdout",
     "output_type": "stream",
     "text": [
      "+--------------------+-------------+\n",
      "|             address|sum(district)|\n",
      "+--------------------+-------------+\n",
      "|        4901 58TH ST|            6|\n",
      "|        2208 24TH ST|            3|\n",
      "|      148 LINDLEY DR|            2|\n",
      "|           1720 L ST|            3|\n",
      "|   1330 LONGSHORE CT|            2|\n",
      "|           1214 L ST|            3|\n",
      "|       99 CAFARO CIR|            1|\n",
      "|       5TH ST / I ST|            6|\n",
      "|        2017 17TH ST|            3|\n",
      "|RIO LINDA BLVD / ...|            2|\n",
      "| 2450 NORTHGATE BLVD|            1|\n",
      "|FRANKLIN BLVD / W...|            4|\n",
      "| 3211 RIVERSIDE BLVD|            4|\n",
      "|       3RD ST / N ST|            3|\n",
      "| 8201 POWER RIDGE RD|            6|\n",
      "|     6 EAGLE ROCK CT|            6|\n",
      "|    7947 CENTER PKWY|            5|\n",
      "| 2082 EXPEDITION WAY|            5|\n",
      "|   6625 VALLEY HI DR|            5|\n",
      "|        3962 3RD AVE|            6|\n",
      "+--------------------+-------------+\n",
      "only showing top 20 rows\n",
      "\n"
     ]
    }
   ],
   "source": [
    "df.groupBy(\"address\").sum(\"district\").show()"
   ]
  },
  {
   "cell_type": "code",
   "execution_count": 7,
   "metadata": {},
   "outputs": [
    {
     "name": "stdout",
     "output_type": "stream",
     "text": [
      "+--------------------+\n",
      "|             address|\n",
      "+--------------------+\n",
      "|      22 BECKFORD CT|\n",
      "|  5301 BONNIEMAE WAY|\n",
      "|  2315 STOCKTON BLVD|\n",
      "|        5112 63RD ST|\n",
      "|     8460 ROVANA CIR|\n",
      "|       4856 11TH AVE|\n",
      "|        6033 69TH ST|\n",
      "|        3525 42ND ST|\n",
      "|        3340 62ND ST|\n",
      "|      7001 EAST PKWY|\n",
      "|        6115 63RD ST|\n",
      "|        5140 61ST ST|\n",
      "|        3820 65TH ST|\n",
      "|  6665 STOCKTON BLVD|\n",
      "| 63RD ST / JANSEN DR|\n",
      "|       3807 24TH AVE|\n",
      "|POWER INN RD / EL...|\n",
      "|       5620 34TH AVE|\n",
      "|         1 CLAUSS CT|\n",
      "|   6021 WILKINSON ST|\n",
      "+--------------------+\n",
      "only showing top 20 rows\n",
      "\n"
     ]
    }
   ],
   "source": [
    "#FILTER OPEARTION\n",
    "\n",
    "df.filter(df['district'] > 5).select('address').show()"
   ]
  },
  {
   "cell_type": "code",
   "execution_count": 8,
   "metadata": {},
   "outputs": [
    {
     "name": "stdout",
     "output_type": "stream",
     "text": [
      "+-------+-----------+--------------------+------------------+----------+-----------------+--------------------+-----------------+-------------------+-------------------+\n",
      "|summary|  cdatetime|             address|          district|      beat|             grid|          crimedescr|    ucr_ncic_code|           latitude|          longitude|\n",
      "+-------+-----------+--------------------+------------------+----------+-----------------+--------------------+-----------------+-------------------+-------------------+\n",
      "|  count|       7584|                7584|              7584|      7584|             7584|                7584|             7584|               7584|               7584|\n",
      "|   mean|       null|                null|3.5746308016877637|      null|916.2507911392405|                null|4275.068829113924|  38.55980901661417|-121.46383201401629|\n",
      "| stddev|       null|                null|1.6425118092977469|      null|407.4363096634682|                null|2171.593193372966|0.05610092030305221|0.03462140264056833|\n",
      "|    min|1/1/06 0:00|         1 CLAUSS CT|                 1|          |              102|10.48.150 E FALSI...|              909|        38.43799945|       -121.5558323|\n",
      "|    max|1/9/06 9:58|YREKA AVE / CANYO...|                 6|6C        |             1661|WARRANT SERVED - ...|             8102|        38.68378949|       -121.3652379|\n",
      "+-------+-----------+--------------------+------------------+----------+-----------------+--------------------+-----------------+-------------------+-------------------+\n",
      "\n"
     ]
    }
   ],
   "source": [
    "df.describe().show()"
   ]
  },
  {
   "cell_type": "code",
   "execution_count": null,
   "metadata": {},
   "outputs": [],
   "source": []
  }
 ],
 "metadata": {
  "kernelspec": {
   "display_name": "Python 3",
   "language": "python",
   "name": "python3"
  }
 },
 "nbformat": 4,
 "nbformat_minor": 4
}
